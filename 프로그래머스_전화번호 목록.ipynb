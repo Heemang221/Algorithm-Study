{
 "cells": [
  {
   "cell_type": "code",
   "execution_count": null,
   "id": "2a5e1490",
   "metadata": {},
   "outputs": [],
   "source": [
    "### 루프\n",
    "def solution(phone_book):\n",
    "    answer = True\n",
    "    \n",
    "    phone_book.sort()\n",
    "    \n",
    "    for i in range(len(phone_book)-1):\n",
    "        if len(phone_book[i]) < len(phone_book[i+1]):\n",
    "            if phone_book[i] == phone_book[i+1][:len(phone_book[i])]:\n",
    "                answer = False\n",
    "                break\n",
    "    \n",
    "    return answer\n",
    "\n",
    "### zip\n",
    "def solution(phone_book):\n",
    "    phone_book.sort()\n",
    "    \n",
    "    for p1, p2 in zip(phone_book, phone_book[1:]):\n",
    "        if p2.startswith(p1):\n",
    "            return False\n",
    "    return True\n",
    "\n",
    "### 해시\n",
    "def solution(phone_book):\n",
    "    hash_map = {}\n",
    "    for phone_number in phone_book:\n",
    "        hash_map[phone_number] = 1\n",
    "        \n",
    "    for phone_number in phone_book:\n",
    "        jubdoo = \"\"\n",
    "        for number in phone_number:\n",
    "            jubdoo += number\n",
    "            if jubdoo in hash_map and jubdoo != phone_number:\n",
    "                return False\n",
    "    return True"
   ]
  }
 ],
 "metadata": {
  "kernelspec": {
   "display_name": "Python 3 (ipykernel)",
   "language": "python",
   "name": "python3"
  },
  "language_info": {
   "codemirror_mode": {
    "name": "ipython",
    "version": 3
   },
   "file_extension": ".py",
   "mimetype": "text/x-python",
   "name": "python",
   "nbconvert_exporter": "python",
   "pygments_lexer": "ipython3",
   "version": "3.9.13"
  }
 },
 "nbformat": 4,
 "nbformat_minor": 5
}
